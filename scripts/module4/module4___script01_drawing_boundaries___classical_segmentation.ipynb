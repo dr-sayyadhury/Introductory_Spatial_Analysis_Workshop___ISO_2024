{
 "cells": [
  {
   "cell_type": "markdown",
   "metadata": {},
   "source": [
    "\n",
    "> **ISO2024 INTRODUCTORY SPATIAL 'OMICS ANALYSIS**\n",
    ">\n",
    ">\n",
    ">- HYBRID : TORONTO & ZOOM\n",
    ">- 10TH JULY 2024 <br>\n",
    "\n",
    ">**Module 4 : Drawing the boundaries ** <BR>\n",
    ">\n",
    ">**Instructor : Shamini Ayyadhury**\n",
    ">\n",
    "---"
   ]
  },
  {
   "cell_type": "markdown",
   "metadata": {},
   "source": [
    "> TOPICS COVERED\n",
    "\n",
    "* A. Classical segmentation\n",
    "* B. Segmentation-free\n",
    "\n",
    "***"
   ]
  },
  {
   "cell_type": "markdown",
   "metadata": {},
   "source": [
    "```\n",
    "A. CLASSICAL SEGMENTATION"
   ]
  },
  {
   "cell_type": "code",
   "execution_count": null,
   "metadata": {},
   "outputs": [],
   "source": [
    "### import the following libraries\n",
    "import sys\n",
    "import pandas as pd\n",
    "import matplotlib.pyplot as plt\n",
    "import seaborn as sns\n",
    "import scanpy as sc\n",
    "#from PIL import Image\n",
    "import os\n",
    "import warnings\n",
    "import tifffile as tiff\n",
    "\n",
    "warnings.filterwarnings('ignore')\n",
    "sys.path.append('/home/shamini/data/projects/spatial_workshop/')\n",
    "import pre_processing_fnc as ppf"
   ]
  },
  {
   "cell_type": "code",
   "execution_count": null,
   "metadata": {},
   "outputs": [],
   "source": [
    "### directory & filepaths\n",
    "data_dir = '/home/shamini/data1/data_orig/data/spatial/xenium/10xGenomics/cell_seg_brain_cancer/'\n",
    "out = '/home/shamini/data/projects/spatial_workshop/out/module4/'\n",
    "os.makedirs(out+'module4/figures/', exist_ok=True)"
   ]
  },
  {
   "cell_type": "markdown",
   "metadata": {},
   "source": [
    "We will load the following files\n",
    "1. *transcripts_subset* \n",
    "    * This is a smaller subset of a larger file from a human brain cancer sample.\n",
    "2. *composite_image*\n",
    "    * This is a correponding image file that has been reduced and processed to show the 4 channel markers for cell segmentation staining \n",
    "3. *cell_boundaries*\n",
    "    * THis file contains the polygon information for cell boundaries\n",
    "\n",
    "The processing steps that were used to derive the above files can be found in supplementary script 06."
   ]
  },
  {
   "cell_type": "code",
   "execution_count": null,
   "metadata": {},
   "outputs": [],
   "source": [
    "cell_boundaries = pd.read_csv(out+'cell_boundaries_subset.csv')\n",
    "transcripts_subset_3g = pd.read_csv(out+'transcripts_subset_3g.csv')\n",
    "iF_crop = tiff.imread(out+'cropped_image_fluo.tif')\n",
    "\n",
    "\n",
    "#----------------------------------------------\n",
    "ppf.get_memory_usage() ### monitor memory usage"
   ]
  },
  {
   "cell_type": "code",
   "execution_count": null,
   "metadata": {},
   "outputs": [],
   "source": [
    "composite_img = ppf.plot_composite_image(iF_crop)\n",
    "\n",
    "#----------------------------------------------\n",
    "ppf.get_memory_usage() ### monitor memory usage"
   ]
  },
  {
   "cell_type": "markdown",
   "metadata": {},
   "source": [
    "---\n",
    ">>> STOP FOR DISCUSSION/LECTURE<br>\n"
   ]
  },
  {
   "cell_type": "code",
   "execution_count": null,
   "metadata": {},
   "outputs": [],
   "source": [
    "'''\n",
    "FIGURE 1A - PLOT THE INDIVIDUAL CHANNELS & THE COMPOSITE IMAGE\n",
    "'''\n",
    "fig, ax = plt.subplots(1, 5, figsize=(40, 10))\n",
    "fig.suptitle('A1. Individual Channels & Composite Image', fontsize=30, fontweight='bold', y=0.95, x=0.3)\n",
    "\n",
    "for i in range(4):\n",
    "    ax[i].imshow(iF_crop[i,:,:], cmap='gray')\n",
    "    ax[i].axis('off')\n",
    "ax[4].imshow(composite_img)\n",
    "\n",
    "\n",
    "\n",
    "'''\n",
    "FIGURE 1 - PLOT THE INDIVIDUAL CHANNELS & THE COMPOSITE IMAGE WITH ZOOMED IN VIEW\n",
    "'''\n",
    "xlower = 3500\n",
    "ylower = 3500\n",
    "xlim = [xlower, xlower+600]\n",
    "ylim = [ylower, ylower+600]\n",
    " \n",
    "fig, ax = plt.subplots(1, 5, figsize=(40, 10))\n",
    "fig.suptitle('A2. Individual Channels & Composite Image (Zoomed In)', fontsize=30, fontweight='bold', y=0.95, x=0.35)\n",
    "\n",
    "for i in range(4):\n",
    "    ax[i].imshow(iF_crop[i,:,:], cmap='gray')\n",
    "    ax[i].set_xlim(xlim)\n",
    "    ax[i].set_ylim(ylim)\n",
    "    ax[i].axis('off')\n",
    "ax[4].imshow(composite_img)\n",
    "ax[4].set_xlim(xlim)\n",
    "ax[4].set_ylim(ylim)\n",
    "\n",
    "\n",
    "#----------------------------------------------\n",
    "ppf.get_memory_usage() ### monitor memory usage"
   ]
  },
  {
   "cell_type": "markdown",
   "metadata": {},
   "source": [
    "---\n",
    ">>> STOP FOR DISCUSSION/LECTURE<br>\n",
    "* Participants will now explore the images by altering the xlower and ylower paramters below\n",
    "* Look carefully at the cell shapes and surrounding environments and appreciate the difficulty in solving the segmentation problem"
   ]
  },
  {
   "cell_type": "code",
   "execution_count": null,
   "metadata": {},
   "outputs": [],
   "source": [
    "### ---------- Participants to alter the following parameters ----------\n",
    "\n",
    "xlower = 0\n",
    "ylower = 2000\n",
    "\n",
    "### ---------------------------------------------------------------------\n",
    "\n",
    "xlim = [xlower, xlower+600]\n",
    "ylim = [ylower, ylower+600]\n",
    "\n",
    "fig, ax = plt.subplots(1, 5, figsize=(40, 10))\n",
    "fig.suptitle('A2. Individual Channels & Composite Image (Zoomed In)', fontsize=40, fontweight='bold', y=0.95, x=0.30)\n",
    "\n",
    "for i in range(4):\n",
    "    ax[i].imshow(iF_crop[i,:,:], cmap='gray')\n",
    "    ax[i].set_xlim(xlim)\n",
    "    ax[i].set_ylim(ylim)\n",
    "    ax[i].axis('off')\n",
    "ax[4].imshow(composite_img)\n",
    "ax[4].set_xlim(xlim)\n",
    "ax[4].set_ylim(ylim)\n",
    "\n",
    "fig, ax = plt.subplots(figsize=(15, 15))\n",
    "fig.suptitle('A3. Composite Image (Zoomed In)', fontsize=20, fontweight='bold', y=0.95, x=0.25)\n",
    "\n",
    "\n",
    "ax.imshow(composite_img)\n",
    "ax.set_xlim(xlim)\n",
    "ax.set_ylim(ylim)\n",
    "\n",
    "\n",
    "#----------------------------------------------\n",
    "ppf.get_memory_usage() ### monitor memory usage"
   ]
  },
  {
   "cell_type": "markdown",
   "metadata": {},
   "source": [
    "---\n",
    ">>> STOP FOR DISCUSSION/LECTURE<br>"
   ]
  },
  {
   "cell_type": "markdown",
   "metadata": {},
   "source": [
    "1. Now we will complete the process by aligning the the transcripts from 3 genes that are supposed to have mutually exclusive spatial expression.\n",
    "* STMN1\n",
    "* PTPC\n",
    "* ANXA1\n",
    "\n",
    "2. And we will overlay the xenium-derived polygons over the image as well"
   ]
  },
  {
   "cell_type": "code",
   "execution_count": null,
   "metadata": {},
   "outputs": [],
   "source": [
    "transcripts_subset_3g"
   ]
  },
  {
   "cell_type": "code",
   "execution_count": null,
   "metadata": {},
   "outputs": [],
   "source": [
    "from matplotlib.patches import Polygon\n",
    "\n",
    "### Step 1: Choose a region to zoom in\n",
    "xlower = 0\n",
    "ylower = 2000\n",
    "xlim = [xlower, xlower+600]\n",
    "ylim = [ylower, ylower+600]\n",
    "\n",
    "\n",
    "### Step 2: Plot the composite fluorescence image \n",
    "fig, ax = plt.subplots(figsize=(21, 21))\n",
    "ax.imshow(composite_img)\n",
    "ax.set_xlim(xlim)\n",
    "ax.set_ylim(ylim)\n",
    "\n",
    "### Step 3: Plot the polygons\n",
    "grouped = cell_boundaries.groupby('cell_id')\n",
    "for cell_id, group in grouped:\n",
    "    group = pd.concat([group, group[:1]])\n",
    "    plg = Polygon(group[['vertex_x', 'vertex_y']].values, edgecolor='r', facecolor='none')\n",
    "    ax.add_patch(plg) \n",
    "    ax.set_xlim(xlim)\n",
    "    ax.set_ylim(ylim)\n",
    "\n",
    "### Step 4: Plot the transcripts for STMN1, PTPRC and ANXA1\n",
    "sns.scatterplot(data=transcripts_subset_3g, x='x_location', y='y_location', hue='feature_name', ax=ax, s=42)\n",
    "ax.legend(loc='upper left', bbox_to_anchor=(1, 0.5), ncol=1, fontsize=10)\n",
    "\n",
    "\n",
    "#----------------------------------------------\n",
    "ppf.get_memory_usage() ### monitor memory usage"
   ]
  },
  {
   "cell_type": "markdown",
   "metadata": {},
   "source": [
    ">>> DISCUSS/LECTURE\n",
    "1. What are the other image based segmentation that you can try?\n",
    "2. What factors do we need to take into account when choosing a segmentation model?\n",
    "3. Do you see errors? How do we evaluate them? - Next lecture.\n"
   ]
  },
  {
   "cell_type": "markdown",
   "metadata": {},
   "source": [
    "> END OF MODULE 4 : CLASSICAL SEGMENTATION <br>\n",
    "> Thank you and see you in the next module where we will try a non-image based method"
   ]
  }
 ],
 "metadata": {
  "kernelspec": {
   "display_name": "xenium",
   "language": "python",
   "name": "python3"
  },
  "language_info": {
   "codemirror_mode": {
    "name": "ipython",
    "version": 3
   },
   "file_extension": ".py",
   "mimetype": "text/x-python",
   "name": "python",
   "nbconvert_exporter": "python",
   "pygments_lexer": "ipython3",
   "version": "3.10.14"
  }
 },
 "nbformat": 4,
 "nbformat_minor": 2
}
