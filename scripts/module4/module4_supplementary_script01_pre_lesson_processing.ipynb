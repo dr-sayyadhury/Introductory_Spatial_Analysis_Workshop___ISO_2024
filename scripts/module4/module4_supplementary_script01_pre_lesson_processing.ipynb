{
 "cells": [
  {
   "cell_type": "markdown",
   "metadata": {},
   "source": [
    "\n",
    "> **ISO2024 INTRODUCTORY SPATIAL 'OMICS ANALYSIS**\n",
    ">\n",
    ">\n",
    ">- HYBRID : TORONTO & ZOOM\n",
    ">- 10TH JULY 2024 <br>\n",
    "\n",
    "\n",
    ">**Module 4 PRE-WORK - Supplementary file 1 <br>\n",
    ">**Instructor : Shamini Ayyadhury**\n",
    "\n",
    "---"
   ]
  },
  {
   "cell_type": "markdown",
   "metadata": {},
   "source": [
    "```\n",
    "Supplementary script 01 :PROCESSING GENE EXPRESSION DATASET\n",
    "\n",
    "1. For this module, we will use the human brain cancer dataset, that has been stained with the cell segmentation staining kit.\n",
    "2. Since we want to focus on segmentation, we will perform the following before the main tutorial to generate the following objects from the gene expression dataset.\n",
    "    * pre-processing\n",
    "    * normalization/transformation using pearson residuals"
   ]
  },
  {
   "cell_type": "code",
   "execution_count": null,
   "metadata": {},
   "outputs": [],
   "source": [
    "### import the following libraries\n",
    "import sys\n",
    "import pandas as pd\n",
    "import matplotlib.pyplot as plt\n",
    "import seaborn as sns\n",
    "import scanpy as sc\n",
    "\n",
    "import os\n"
   ]
  },
  {
   "cell_type": "code",
   "execution_count": null,
   "metadata": {},
   "outputs": [],
   "source": [
    "### directory & filepaths\n",
    "data_dir = '/home/shamini/data1/data_orig/data/spatial/xenium/10xGenomics/cell_seg_brain_cancer/'\n",
    "out = '/home/shamini/data/projects/spatial_workshop/out/module4/'\n",
    "os.makedirs(out, exist_ok=True) # create a new directory to store the output files\n"
   ]
  },
  {
   "cell_type": "code",
   "execution_count": null,
   "metadata": {},
   "outputs": [],
   "source": [
    "adata = sc.read_10x_h5(data_dir+'out/cell_feature_matrix.h5')\n",
    "df_cell = pd.read_parquet(data_dir+'out/cells.parquet')\n",
    "df_cell.set_index('cell_id', inplace=True)\n",
    "df_cell.reindex(adata.obs.index)\n",
    "adata.obs = df_cell\n",
    "### process the adata object\n",
    "sc.pp.filter_cells(adata, min_counts=9)\n",
    "sc.pp.filter_genes(adata, min_cells=3)\n",
    "### reduce adata size to fit the cropped image coordinates\n",
    "#adata = adata[adata.obs.index.isin(df_cells_subset['cell_id']),:]\n",
    "adata"
   ]
  },
  {
   "cell_type": "code",
   "execution_count": null,
   "metadata": {},
   "outputs": [],
   "source": [
    "import umap\n",
    "\n",
    "sc.experimental.pp.normalize_pearson_residuals(adata)\n",
    "sc.pp.pca(adata)\n",
    "sc.pp.neighbors(adata, n_neighbors=25)\n",
    "\n",
    "\n",
    "reducer = umap.UMAP()\n",
    "embedding = reducer.fit_transform(adata.obsm['X_pca'])\n",
    "\n",
    "adata.obsm['X_umap'] = embedding\n",
    "\n",
    "adata.uns['spatial'] = adata.obs[['x_centroid', 'y_centroid']]\n"
   ]
  },
  {
   "cell_type": "code",
   "execution_count": null,
   "metadata": {},
   "outputs": [],
   "source": [
    "adata.write_h5ad(out+'adata.h5ad')"
   ]
  }
 ],
 "metadata": {
  "kernelspec": {
   "display_name": "xenium",
   "language": "python",
   "name": "python3"
  },
  "language_info": {
   "codemirror_mode": {
    "name": "ipython",
    "version": 3
   },
   "file_extension": ".py",
   "mimetype": "text/x-python",
   "name": "python",
   "nbconvert_exporter": "python",
   "pygments_lexer": "ipython3",
   "version": "3.10.14"
  }
 },
 "nbformat": 4,
 "nbformat_minor": 2
}
