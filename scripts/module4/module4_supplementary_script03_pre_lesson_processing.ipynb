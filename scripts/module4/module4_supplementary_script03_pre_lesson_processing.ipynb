{
 "cells": [
  {
   "cell_type": "markdown",
   "metadata": {},
   "source": [
    "\n",
    "> **ISO2024 INTRODUCTORY SPATIAL 'OMICS ANALYSIS**\n",
    ">\n",
    ">\n",
    ">- HYBRID : TORONTO & ZOOM\n",
    ">- 10TH JULY 2024 <br>\n",
    "\n",
    "\n",
    ">**Module 4 PRE-WORK - Supplementary file 1 <br>\n",
    ">**Instructor : Shamini Ayyadhury**\n",
    "\n",
    "---"
   ]
  },
  {
   "cell_type": "markdown",
   "metadata": {},
   "source": [
    "```\n",
    "Supplementary script 03 : BAYSOR SEGMENTATION-FREE RUN\n",
    "    "
   ]
  },
  {
   "cell_type": "code",
   "execution_count": null,
   "metadata": {},
   "outputs": [],
   "source": [
    "import os\n",
    "import subprocess\n",
    "import scanpy as sc\n",
    "import pandas as pd"
   ]
  },
  {
   "cell_type": "code",
   "execution_count": null,
   "metadata": {},
   "outputs": [],
   "source": [
    "### directory & filepaths\n",
    "out = '/home/shamini/data/projects/spatial_workshop/out/module4/'\n",
    "os.makedirs(out, exist_ok=True) # create a new directory to store the output files\n",
    "os.makedirs(out+'baysor/', exist_ok=True)\n",
    "os.makedirs(out+'baysor/segmentation', exist_ok=True)\n",
    "os.makedirs(out+'baysor/ncv', exist_ok=True)\n",
    "\n"
   ]
  },
  {
   "cell_type": "code",
   "execution_count": null,
   "metadata": {},
   "outputs": [],
   "source": [
    "\n",
    "transcripts_df = pd.read_csv(out+'/transcripts_subset_all_genes.csv')\n",
    "\n",
    "### prepare test sample for participants to test during lesson but provide them with the fully processed data\n",
    "transcripts_df_downsampled = transcripts_df.sample(frac=0.001)\n",
    "transcripts_df_downsampled.to_csv(out+'transcripts_subset_all_genes_downsampled.csv', index=False)\n"
   ]
  },
  {
   "cell_type": "code",
   "execution_count": null,
   "metadata": {},
   "outputs": [],
   "source": [
    "\n",
    "# Define the Baysor command with the --save-polygons flag\n",
    "\n",
    "# get filtered transcript files\n",
    "### Read in the transcripts_df.csv file from module 2\n",
    "\n",
    "for scale in [9, 45, 90]: ### PARTICIPANTS TO ALTER THIS ACCORDINGLY\n",
    "        os.makedirs(out+'baysor/segmentation/scale'+str(scale), exist_ok=True)\n",
    "        command = [\n",
    "                '/home/shamini/baysor/bin/baysor/bin/baysor', 'run',\n",
    "                '-c', out+'parameters_baysor.toml',\n",
    "                '-s', str(scale),\n",
    "                '--save-polygons', 'geojson',\n",
    "                '-o', out+'baysor/segmentation/scale'+str(scale),\n",
    "                os.path.join(out,'transcripts_subset_all_genes.csv')\n",
    "        ]       \n",
    "        subprocess.run(command, check=True)\n"
   ]
  },
  {
   "cell_type": "code",
   "execution_count": null,
   "metadata": {},
   "outputs": [],
   "source": [
    "\n",
    "\n",
    "command = [\n",
    "        '/home/shamini/baysor/bin/baysor/bin/baysor', 'segfree',\n",
    "        '-c', out+'parameters_baysor.toml',\n",
    "        '-o', out+'baysor/ncv/',\n",
    "        os.path.join(out,'transcripts_subset_all_genes.csv')\n",
    "        ]\n",
    "subprocess.run(command, check=True)\n"
   ]
  }
 ],
 "metadata": {
  "kernelspec": {
   "display_name": "xenium",
   "language": "python",
   "name": "python3"
  },
  "language_info": {
   "codemirror_mode": {
    "name": "ipython",
    "version": 3
   },
   "file_extension": ".py",
   "mimetype": "text/x-python",
   "name": "python",
   "nbconvert_exporter": "python",
   "pygments_lexer": "ipython3",
   "version": "3.10.14"
  }
 },
 "nbformat": 4,
 "nbformat_minor": 2
}
