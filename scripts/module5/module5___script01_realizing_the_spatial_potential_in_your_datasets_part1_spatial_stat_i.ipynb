{
 "cells": [
  {
   "cell_type": "markdown",
   "metadata": {},
   "source": [
    "\n",
    "> **ISO2024 INTRODUCTORY SPATIAL 'OMICS ANALYSIS**\n",
    ">\n",
    ">\n",
    ">- HYBRID : TORONTO & ZOOM\n",
    ">- 10TH JULY 2024 <br>\n",
    "\n",
    ">**Module 5 : Module 5 : Realizing the spatial potential in your datasets, part 1 ** <BR>\n",
    ">\n",
    ">**Instructor : Shamini Ayyadhury**\n",
    ">\n",
    "---"
   ]
  },
  {
   "cell_type": "markdown",
   "metadata": {},
   "source": [
    "> TOPICS COVERED\n",
    "\n",
    "* A. Centrality scores *\n",
    "* B. Ripley's L statistics *\n",
    "\n",
    "***"
   ]
  },
  {
   "cell_type": "code",
   "execution_count": null,
   "metadata": {},
   "outputs": [],
   "source": [
    "### Import packages\n",
    "\n",
    "### we will be using the builtu-in functions of squidpy to perform the analysis\n",
    "\n",
    "import squidpy as sq\n",
    "import scanpy as sc\n",
    "import seaborn as sns\n",
    "import matplotlib.pyplot as plt\n",
    "import numpy as np\n",
    "import pandas as pd\n"
   ]
  },
  {
   "cell_type": "code",
   "execution_count": null,
   "metadata": {},
   "outputs": [],
   "source": [
    "out = '/home/shamini/data/projects/spatial_workshop/out/' ### data directory"
   ]
  },
  {
   "cell_type": "markdown",
   "metadata": {},
   "source": [
    "DATASETS:\n",
    "1. For this lesson, we will set the stage using datasets from module 2/3.\n",
    "\n",
    "ANALYSIS :\n",
    "The codes for this pipeline were predominanly re-produced and adapted from <https://squidpy.readthedocs.io/en/stable/notebooks/tutorials/tutorial_vizgen_mouse_liver.html#network-centrality-scores>"
   ]
  },
  {
   "cell_type": "code",
   "execution_count": null,
   "metadata": {},
   "outputs": [],
   "source": [
    "adata = sc.read_h5ad(out + 'module3/TgCRND8_17_8mths/adata_module3b_banksy.h5ad')\n",
    "adata = adata[adata.obs['cell_label'].notna()]\n",
    "adata"
   ]
  },
  {
   "cell_type": "code",
   "execution_count": null,
   "metadata": {},
   "outputs": [],
   "source": [
    "from copy import deepcopy\n",
    "\n",
    "\n",
    "### Step 1: Calculate spatial neighbors\n",
    "sq.gr.spatial_neighbors(adata, coord_type=\"generic\", n_rings=2, delaunay=True)\n",
    "### QUESTION - what difference would it make if we set delaunay=False?\n",
    "\n",
    "### calling squidpy function to calculate the centrality scores\n",
    "sq.gr.centrality_scores(adata, \"cell_label\")\n",
    "sc.set_figure_params(figsize=(20, 8))\n",
    "\n",
    "# copy centrality data to new DataFrame\n",
    "df_central = deepcopy(adata.uns[\"cell_label_centrality_scores\"])\n"
   ]
  },
  {
   "cell_type": "code",
   "execution_count": null,
   "metadata": {},
   "outputs": [],
   "source": [
    "df_central ### sort the centrality scores in both ascending and descending order\n",
    "\n",
    "# SORT BY :\n",
    "### DEGREE CENTRALITY - fraction of non-group members connected to group members.\n",
    "df_central.sort_values(by=\"degree_centrality\", ascending=False, inplace=True)\n",
    "\n",
    "\n",
    "# SORT BY :\n",
    "### CLOSENESS CENTRALITY - measure of how close the group is to other nodes.\n",
    "df_central.sort_values(by=\"closeness_centrality\", ascending=False, inplace=True)"
   ]
  },
  {
   "cell_type": "code",
   "execution_count": null,
   "metadata": {},
   "outputs": [],
   "source": [
    "\n",
    "# sort clusters based on centrality scores\n",
    "ser_closeness = df_central[\"closeness_centrality\"].sort_values(ascending=False)\n",
    "\n",
    "# degree centrality \n",
    "# [Networkx](https://networkx.org/documentation/stable/reference/algorithms/generated/networkx.algorithms.centrality.degree_centrality.html#networkx.algorithms.centrality.degree_centrality)\n",
    "# The degree centrality for a node v is the fraction of nodes it is connected to.\n",
    "ser_degree = df_central[\"degree_centrality\"].sort_values(ascending=False)\n",
    "\n",
    "# clustering coefficient - measure of the degree to which nodes cluster together.\n",
    "ser_cluster = df_central[\"average_clustering\"].sort_values(ascending=False)"
   ]
  },
  {
   "cell_type": "markdown",
   "metadata": {},
   "source": [
    "Now we will take the top 5 and bottom 5 cell labels from the centrality closeness score output"
   ]
  },
  {
   "cell_type": "code",
   "execution_count": null,
   "metadata": {},
   "outputs": [],
   "source": [
    "inst_clusters = ser_closeness.index.tolist()[:5]\n",
    "print(inst_clusters)\n",
    "\n",
    "fig, axs = plt.subplots(1, 2, figsize=(20, 6))\n",
    "fig.suptitle(\"Top 5 clusters and bottom 5 clusters based on closeness centrality\", fontsize=24, y=1.05, x=0.4)\n",
    "\n",
    "sq.pl.spatial_scatter(\n",
    "    adata, groups=inst_clusters, color=\"cell_label\", size=15, img=False, figsize=(10, 10), ax=axs[0]\n",
    ")\n",
    "axs[0].set_title(\"Top 5 clusters based on closeness centrality\", loc=\"left\")\n",
    "\n",
    "\n",
    "inst_clusters = ser_closeness.index.tolist()[-5:]\n",
    "print(inst_clusters)\n",
    "sq.pl.spatial_scatter(\n",
    "    adata, groups=inst_clusters, color=\"cell_label\", size=15, img=False, figsize=(10, 10), palette=\"tab20\", ax=axs[1]\n",
    ")\n",
    "axs[1].set_title(\"Bottom 5 clusters based on closeness centrality\", loc=\"left\")"
   ]
  },
  {
   "cell_type": "markdown",
   "metadata": {},
   "source": [
    ">>> NOW LET'S TRY TO COMPLEMENT THE CENTRALITY SCORES WITH RIPLEY'S L FUNCTION "
   ]
  },
  {
   "cell_type": "code",
   "execution_count": null,
   "metadata": {},
   "outputs": [],
   "source": [
    "sq.gr.ripley(adata, \n",
    "                  cluster_key='cell_label', \n",
    "                  mode='L', \n",
    "                  spatial_key='spatial', \n",
    "                  metric='euclidean', \n",
    "                  n_neigh=2, \n",
    "                  n_simulations=50, n_observations=1000, \n",
    "                  max_dist=None, \n",
    "                  n_steps=50, \n",
    "                  seed=None, \n",
    "                  copy=False)\n"
   ]
  },
  {
   "cell_type": "markdown",
   "metadata": {},
   "source": [
    "The Ripley output"
   ]
  },
  {
   "cell_type": "code",
   "execution_count": null,
   "metadata": {},
   "outputs": [],
   "source": [
    "df_cell_ripley=pd.DataFrame(adata.uns['cell_label_ripley_L']['L_stat'])\n",
    "df_cell_ripley"
   ]
  },
  {
   "cell_type": "code",
   "execution_count": null,
   "metadata": {},
   "outputs": [],
   "source": [
    "sim = pd.DataFrame(adata.uns['cell_label_ripley_L']['sims_stat'])\n",
    "sim.columns = ['bins', 'cell_label', 'stats']\n",
    "sim['cell_label'] = 'sim'\n",
    "sim\n"
   ]
  },
  {
   "cell_type": "code",
   "execution_count": null,
   "metadata": {},
   "outputs": [],
   "source": [
    "pd.DataFrame(adata.uns['cell_label_ripley_L']['pvalues'])"
   ]
  },
  {
   "cell_type": "markdown",
   "metadata": {},
   "source": [
    "Let's compare the centrality scores with their corresponding Ripley's L scores"
   ]
  },
  {
   "cell_type": "code",
   "execution_count": null,
   "metadata": {},
   "outputs": [],
   "source": [
    "\n",
    "df_cell_ripley_high_cen = df_cell_ripley[df_cell_ripley['cell_label'].isin(ser_closeness.index.tolist()[:5])].copy()\n",
    "df_cell_ripley_low_cen = df_cell_ripley[df_cell_ripley['cell_label'].isin(ser_closeness.index.tolist()[-5:])].copy()"
   ]
  },
  {
   "cell_type": "code",
   "execution_count": null,
   "metadata": {},
   "outputs": [],
   "source": [
    "\n",
    "\n",
    "df_cell_ripley_high_cen['source'] = 'High Closeness Centrality'\n",
    "sim['source'] = 'Simulated Data'\n",
    "\n",
    "if 'cell_label' not in sim.columns:\n",
    "    sim['cell_label'] = 'Simulated'  \n",
    "\n",
    "combined_df = pd.concat([df_cell_ripley_high_cen, sim])\n",
    "\n",
    "# Plotting\n",
    "plt.figure(figsize=(10, 6))\n",
    "sns.lineplot(data=combined_df, x='bins', y='stats', hue='cell_label', style='source', legend='brief')\n",
    "\n",
    "# Customize the legend\n",
    "handles, labels = plt.gca().get_legend_handles_labels()\n",
    "# Filter out the legends that are in the combined DataFrame\n",
    "filtered_handles_labels = [(h, l) for h, l in zip(handles, labels) if l in combined_df['cell_label'].unique()]\n",
    "handles, labels = zip(*filtered_handles_labels)\n",
    "plt.legend(handles, labels, loc='center left', bbox_to_anchor=(1, 0.5), title='Legend')\n",
    "\n",
    "# Set plot title and labels\n",
    "plt.title('Ripley L-function for High Closeness Centrality and Simulated Data')\n",
    "plt.xlabel('Bins')\n",
    "plt.ylabel('Stats')\n",
    "\n",
    "# Show plot\n",
    "plt.show()\n"
   ]
  },
  {
   "cell_type": "code",
   "execution_count": null,
   "metadata": {},
   "outputs": [],
   "source": [
    "import pandas as pd\n",
    "import seaborn as sns\n",
    "import matplotlib.pyplot as plt\n",
    "\n",
    "df_cell_ripley_low_cen['source'] = 'Low Closeness Centrality'\n",
    "sim['source'] = 'Simulated Data'\n",
    "\n",
    "if 'cell_label' not in sim.columns:\n",
    "    sim['cell_label'] = 'Simulated'  \n",
    "\n",
    "combined_df_low_cen = pd.concat([df_cell_ripley_low_cen, sim])\n",
    "\n",
    "# Plotting\n",
    "plt.figure(figsize=(10, 6))\n",
    "sns.lineplot(data=combined_df_low_cen, x='bins', y='stats', hue='cell_label', style='source', legend='brief')\n",
    "\n",
    "# Customize the legend\n",
    "handles, labels = plt.gca().get_legend_handles_labels()\n",
    "# Filter out the legends that are in the combined DataFrame\n",
    "filtered_handles_labels = [(h, l) for h, l in zip(handles, labels) if l in combined_df_low_cen['cell_label'].unique()]\n",
    "handles, labels = zip(*filtered_handles_labels)\n",
    "plt.legend(handles, labels, loc='center left', bbox_to_anchor=(1, 0.5), title='Legend')\n",
    "\n",
    "# Set plot title and labels\n",
    "plt.title('Ripley L-function for Low Closeness Centrality and Simulated Data')\n",
    "plt.xlabel('Bins')\n",
    "plt.ylabel('Stats')\n",
    "\n",
    "plt.vlines(x=500, ymin=0, ymax=40, color='red', linestyle='--', label='Threshold')\n",
    "\n",
    "# Show plot\n",
    "plt.show()\n"
   ]
  },
  {
   "cell_type": "markdown",
   "metadata": {},
   "source": [
    ">>> DISCUSSION : WHAT CAN WE INFER ABOUT THE CHANGES IN DISTRIBUTION FOR THE CELL-TYPES WITH LOW CLOSENESS CENTRALITY SCORES"
   ]
  },
  {
   "cell_type": "markdown",
   "metadata": {},
   "source": [
    "NOW : PARTICIPANTS TO TRY ON THEIR OWN IN THE NEXT SCRIPT\n",
    "Script 6 has been updated with additional code that we did not have time to review during the workshop"
   ]
  }
 ],
 "metadata": {
  "kernelspec": {
   "display_name": "xenium",
   "language": "python",
   "name": "python3"
  },
  "language_info": {
   "codemirror_mode": {
    "name": "ipython",
    "version": 3
   },
   "file_extension": ".py",
   "mimetype": "text/x-python",
   "name": "python",
   "nbconvert_exporter": "python",
   "pygments_lexer": "ipython3",
   "version": "3.10.14"
  }
 },
 "nbformat": 4,
 "nbformat_minor": 2
}
