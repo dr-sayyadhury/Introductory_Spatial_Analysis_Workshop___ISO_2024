{
 "cells": [
  {
   "cell_type": "markdown",
   "metadata": {},
   "source": [
    "\n",
    "> **ISO2024 INTRODUCTORY SPATIAL 'OMICS ANALYSIS**\n",
    ">\n",
    ">\n",
    ">- HYBRID : TORONTO & ZOOM\n",
    ">- 10TH JULY 2024 <br>\n",
    "\n",
    ">**Module 6 : Realizing the spatial potential in your datasets, part 2 ** <BR>\n",
    ">\n",
    ">**Instructor : Shamini Ayyadhury**\n",
    ">\n",
    "---"
   ]
  },
  {
   "cell_type": "markdown",
   "metadata": {},
   "source": [
    "> TOPICS COVERED\n",
    "\n",
    "* A. Centrality scores *\n",
    "* B. Ripley's L statistics *\n",
    "\n",
    "***"
   ]
  },
  {
   "cell_type": "code",
   "execution_count": null,
   "metadata": {},
   "outputs": [],
   "source": [
    "### Import packages\n",
    "\n",
    "### we will be using the builtu-in functions of squidpy to perform the analysis\n",
    "\n",
    "import squidpy as sq\n",
    "import scanpy as sc\n",
    "import seaborn as sns\n",
    "import matplotlib.pyplot as plt\n",
    "import numpy as np\n",
    "import pandas as pd\n"
   ]
  },
  {
   "cell_type": "code",
   "execution_count": null,
   "metadata": {},
   "outputs": [],
   "source": [
    "out = '/home/shamini/data/projects/spatial_workshop/out/module3/' ### data directory\n",
    "\n",
    "colors = ['#8B0000', '#006400', '#00008B', '#8B008B', '#556B2F', '#FF8C00', '#8B4513', \n",
    "'#2F4F4F', '#4682B4', '#8A2BE2', '#5F9EA0', '#D2691E', '#DC143C', '#9400D3', \n",
    "'#B22222', '#228B22', '#4B0082', '#6B8E23', '#B8860B', '#9932CC', '#8B4513', \n",
    "'#FF4500', '#6A5ACD', '#708090', '#FF6347', '#4682B4', '#8FBC8F', '#483D8B', \n",
    "'#2E8B57', '#FF69B4', '#CD5C5C']\n",
    "\n",
    "\n",
    "\n",
    "names = ['wt', 'AD']"
   ]
  },
  {
   "cell_type": "code",
   "execution_count": null,
   "metadata": {},
   "outputs": [],
   "source": [
    "adatas = []\n",
    "\n",
    "adata = sc.read_h5ad(out + 'wt_13_4mths/adata_wt_banksy.h5ad')\n",
    "adata = adata[adata.obs['cell_label'].notna()]\n",
    "adatas.append(adata)\n",
    "\n",
    "adata = sc.read_h5ad(out + 'TgCRND8_17_8mths/adata_module3b_banksy.h5ad')\n",
    "adata = adata[adata.obs['cell_label'].notna()]\n",
    "adatas.append(adata)\n",
    "\n",
    "for adata in adatas:\n",
    "    print(adata)\n",
    "    print('')\n"
   ]
  },
  {
   "cell_type": "code",
   "execution_count": null,
   "metadata": {},
   "outputs": [],
   "source": [
    "\n",
    "\n",
    "### PARTICIPANTS TO PLAY AROUND WITH THE PARAMETERS\n",
    "\n",
    "for adata in adatas:\n",
    "    sq.gr.spatial_neighbors(adata, coord_type=\"generic\", n_rings=2, delaunay=True)\n"
   ]
  },
  {
   "cell_type": "markdown",
   "metadata": {},
   "source": [
    "COMPUTE CENTRALITY SCORES"
   ]
  },
  {
   "cell_type": "code",
   "execution_count": null,
   "metadata": {},
   "outputs": [],
   "source": [
    "from copy import deepcopy\n",
    "\n",
    "deep_centrals = []\n",
    "ser_closeness = []\n",
    "ser_degree = []\n",
    "ser_cluster = []\n",
    "\n",
    "for i, adata in enumerate(adatas):\n",
    "    sq.gr.centrality_scores(adata, \"cell_label\")\n",
    "\n",
    "    # copy centrality data to new DataFrame\n",
    "    deep_central = deepcopy(adata.uns[\"cell_label_centrality_scores\"])\n",
    "\n",
    "    ser_closeness.append(deep_central[\"closeness_centrality\"].sort_values(ascending=False))\n",
    "\n",
    "    ser_degree.append(deep_central[\"degree_centrality\"].sort_values(ascending=False))\n",
    "\n",
    "    ser_cluster.append(deep_central[\"average_clustering\"].sort_values(ascending=False))\n",
    "    \n",
    "    deep_centrals.append(deep_central)"
   ]
  },
  {
   "cell_type": "markdown",
   "metadata": {},
   "source": [
    "### We will tag each cell_label with a unique color for easy visualization and comparison between control and AD models"
   ]
  },
  {
   "cell_type": "code",
   "execution_count": null,
   "metadata": {},
   "outputs": [],
   "source": [
    "\n",
    "unique_labels = adata.obs['cell_label'].unique()\n",
    "if len(colors) < len(unique_labels):\n",
    "    raise ValueError(\"Not enough colors provided for the unique cell labels.\")\n",
    "\n",
    "# Create the dictionary of colors\n",
    "dict_colors = dict(zip(unique_labels, colors))\n",
    "\n",
    "# Assign colors to the adata object\n",
    "for adata in adatas:\n",
    "    adata.uns['cell_label_colors'] = pd.Series(dict_colors).loc[adata.obs['cell_label'].cat.categories].values\n",
    "\n",
    "for i, closeness in enumerate(ser_degree):\n",
    "    # Get top 5 clusters\n",
    "    inst_clusters_top = closeness.index.tolist()[:5]\n",
    "\n",
    "    fig, axs = plt.subplots(1, 2, figsize=(20, 6))\n",
    "    fig.suptitle(f\"Top 5 clusters and bottom 5 clusters based ond degree centrality for {names[i]}\", fontsize=24, y=1.05, x=0.4)\n",
    "    \n",
    "    # Plot top 5 clusters\n",
    "    sq.pl.spatial_scatter(\n",
    "        adatas[i], groups=inst_clusters_top, color=\"cell_label\", size=15, img=False, figsize=(10, 10), ax=axs[0]\n",
    "    )\n",
    "    axs[0].set_title(\"Top 5 clusters\", loc=\"left\")\n",
    "\n",
    "    # Get bottom 5 clusters\n",
    "    inst_clusters_bottom = closeness.index.tolist()[-5:]\n",
    "\n",
    "    # Plot bottom 5 clusters\n",
    "    sq.pl.spatial_scatter(\n",
    "        adatas[i], groups=inst_clusters_bottom, color=\"cell_label\", size=15, img=False, figsize=(10, 10), ax=axs[1]\n",
    "    )\n",
    "    axs[1].set_title(\"Bottom 5 clusters\", loc=\"left\")\n",
    "\n",
    "plt.tight_layout()\n",
    "plt.show()\n"
   ]
  },
  {
   "cell_type": "markdown",
   "metadata": {},
   "source": [
    "```\n",
    "1. If you observe the plots above, you will notice that the distribution of certain cell-types has changed between the WT and AD-model.\n",
    "2. Now let's dig in a bit more\n",
    "\n",
    "```"
   ]
  },
  {
   "cell_type": "code",
   "execution_count": null,
   "metadata": {},
   "outputs": [],
   "source": [
    "\n",
    "unique_labels = adata.obs['cell_label'].unique()\n",
    "if len(colors) < len(unique_labels):\n",
    "    raise ValueError(\"Not enough colors provided for the unique cell labels.\")\n",
    "\n",
    "# Create the dictionary of colors\n",
    "dict_colors = dict(zip(unique_labels, colors))\n"
   ]
  },
  {
   "cell_type": "code",
   "execution_count": null,
   "metadata": {},
   "outputs": [],
   "source": [
    "\n",
    "for adata in adatas:\n",
    "    adata.uns['cell_label_colors'] = pd.Series(dict_colors).loc[adata.obs['cell_label'].cat.categories].values # Assign colors to the adata object\n",
    "\n",
    "for i, closeness in enumerate(ser_degree):\n",
    "\n",
    "    inst_clusters_top = closeness.index.tolist()[:5] # Get top 5 clusters\n",
    "    \n",
    "    adata_subset = adatas[i][adatas[i].obs[\"cell_label\"].isin(inst_clusters_top)] # Subset the adata object\n",
    "\n",
    "    fig, axs = plt.subplots(1, len(inst_clusters_top)+1, figsize=(20, 3.5))\n",
    "    fig.suptitle(f\"Top 5 clusters clusters based on degree centrality for {names[i]}\", fontsize=24, y=1.05, x=0.4)\n",
    "\n",
    "    # Plot top 5 clusters\n",
    "    sns.scatterplot(adata_subset.obs, x='x_location', y='y_location', hue='cell_label', palette=dict_colors, ax=axs[0], s=1)\n",
    "    axs[0].set_title(\"Top 5 clusters\", loc=\"left\")\n",
    "\n",
    "    ### plot individual clusters\n",
    "    for j, cluster in enumerate(inst_clusters_top):\n",
    "        adata_subset = adatas[i][adatas[i].obs[\"cell_label\"] == cluster]\n",
    "        sns.scatterplot(adata_subset.obs, x='x_location', y='y_location', hue='cell_label', palette=dict_colors, ax=axs[j+1], s=1)\n",
    "        axs[j+1].set_title(f\"Cluster {cluster}\", loc=\"left\")\n",
    "        \n",
    "plt.tight_layout()\n",
    "plt.show()\n"
   ]
  },
  {
   "cell_type": "markdown",
   "metadata": {},
   "source": [
    ">>> 1. The purpose of performing or utilizing spatial statistics is to understand the broad patterns of distributions of points.\n",
    ">>> 2. Here, points can be either cells or transcripts \n",
    ">>> 3. You can evaluate spatial patterns using cell-types, clusters or other biomarkers.\n",
    "\n",
    "\n",
    ">>> 4. In the above plot, we can see that the top well-connected cell-types change in the AD model. And why do we want to look at these spatial shifts?\n",
    "\n",
    ">>> Looking at overall distributions of cells can give us a sense of broad patterns of changes before we dive deep into cluster or anatomical regional pattern characterization.\n",
    "\n",
    ">>> Though at the workshop we could not delve deep into this, try to repeat the above methods and others found on packages such as squidpy, sopa , on clusters , cell types and cell states."
   ]
  },
  {
   "cell_type": "code",
   "execution_count": null,
   "metadata": {},
   "outputs": [],
   "source": [
    "\n",
    "for i, closeness in enumerate(ser_degree):\n",
    "    inst_clusters_bottom = closeness.index.tolist()[-5:]\n",
    "    \n",
    "    adata_subset = adatas[i][adatas[i].obs[\"cell_label\"].isin(inst_clusters_bottom)]\n",
    "    \n",
    "    fig, axs = plt.subplots(1, len(inst_clusters_bottom)+1, figsize=(20, 3.5))\n",
    "    fig.suptitle(f\"Top 5 clusters clusters based on closeness centrality for {names[i]}\", fontsize=24, y=1.05, x=0.4)\n",
    "\n",
    "    sns.scatterplot(adata_subset.obs, x='x_location', y='y_location', hue='cell_label', palette=dict_colors, ax=axs[0], s=3)\n",
    "    axs[0].set_title(\"Bottom 5 clusters\", loc=\"left\")\n",
    "    axs[0].legend(loc='upper right')\n",
    "    \n",
    "    ### plot individual clusters\n",
    "    for j, cluster in enumerate(inst_clusters_bottom):\n",
    "        adata_subset = adatas[i][adatas[i].obs[\"cell_label\"] == cluster]\n",
    "        sns.scatterplot(adata_subset.obs, x='x_location', y='y_location', hue='cell_label', palette=dict_colors, ax=axs[j+1], s=3)\n",
    "        axs[j+1].set_title(f\"Cluster {cluster}\", loc=\"left\")\n",
    "        axs[j+1].legend(loc='upper right')\n",
    "        \n",
    "plt.tight_layout()\n",
    "plt.show()"
   ]
  },
  {
   "cell_type": "markdown",
   "metadata": {},
   "source": [
    ">>> The same repeated on the bottom 5 cell-types .\n",
    ">>> the bottom 5 cell-types are clustered in select regions. \n",
    ">>> Question : Do you think these cell-types group together within the same anatomical regions or clusters?\n",
    "\n",
    ">>> Repeat now using the other centrality groups? Which ones do you think are informative?"
   ]
  },
  {
   "cell_type": "markdown",
   "metadata": {},
   "source": [
    ">>> DO IT YOURSELF\n"
   ]
  },
  {
   "cell_type": "markdown",
   "metadata": {},
   "source": [
    "COMPUTE RIPLEY'S FUNCTION"
   ]
  },
  {
   "cell_type": "markdown",
   "metadata": {},
   "source": [
    "Now lets try out the Ripley's spatial stat"
   ]
  },
  {
   "cell_type": "code",
   "execution_count": null,
   "metadata": {},
   "outputs": [],
   "source": [
    "for adata in adatas:\n",
    "    sq.gr.ripley(adata, \n",
    "                  cluster_key='cell_label', \n",
    "                  mode='L', \n",
    "                  spatial_key='spatial', \n",
    "                  metric='euclidean', \n",
    "                  n_neigh=2, \n",
    "                  n_simulations=50, n_observations=1000, \n",
    "                  max_dist=None, \n",
    "                  n_steps=50, \n",
    "                  seed=None, \n",
    "                  copy=False)\n"
   ]
  },
  {
   "cell_type": "code",
   "execution_count": null,
   "metadata": {},
   "outputs": [],
   "source": [
    "df_cell_ripley = []\n",
    "sim = []\n",
    "\n",
    "for adata in adatas:\n",
    "    df_cell_ripley.append(pd.DataFrame(adata.uns['cell_label_ripley_L']['L_stat']))\n",
    "    s = (pd.DataFrame(adata.uns['cell_label_ripley_L']['sims_stat']))\n",
    "    s.columns = ['bins', 'cell_label', 'stats']\n",
    "    s['cell_label'] = 'sim'\n",
    "    sim.append(s)\n"
   ]
  },
  {
   "cell_type": "code",
   "execution_count": null,
   "metadata": {},
   "outputs": [],
   "source": [
    "df_cell_ripley_high_cen = []\n",
    "df_cell_ripley_low_cen = []\n",
    "\n",
    "for i, closeness in enumerate(ser_closeness):\n",
    "    df_cell_ripley_high_cen.append(df_cell_ripley[i][df_cell_ripley[i]['cell_label'].isin(closeness.index.tolist()[:5])].copy())\n",
    "    df_cell_ripley_low_cen.append(df_cell_ripley[i][df_cell_ripley[i]['cell_label'].isin(closeness.index.tolist()[-5:])].copy())"
   ]
  },
  {
   "cell_type": "code",
   "execution_count": null,
   "metadata": {},
   "outputs": [],
   "source": [
    "\n",
    "fig, axs = plt.subplots(1, 2, figsize=(20, 6))\n",
    "\n",
    "for i, adata in enumerate(adatas):\n",
    "    df_cell_ripley_high_cen[i]['source'] = 'High Closeness Centrality'\n",
    "    sim[i]['source'] = 'Simulated Data'\n",
    "\n",
    "    if 'cell_label' not in sim[i].columns:\n",
    "        sim[i]['cell_label'] = 'Simulated'  \n",
    "\n",
    "    combined_df = pd.concat([df_cell_ripley_high_cen[i], sim[i]])\n",
    "\n",
    "    # Plotting\n",
    "    ax = sns.lineplot(data=combined_df, x='bins', y='stats', hue='cell_label', style='source', legend='brief', ax=axs[i])\n",
    "\n",
    "    handles, labels = ax.get_legend_handles_labels()\n",
    "    filtered_handles_labels = [(h, l) for h, l in zip(handles, labels) if l in combined_df['cell_label'].unique()]\n",
    "    handles, labels = zip(*filtered_handles_labels)\n",
    "    ax.legend(handles, labels, loc='center left', bbox_to_anchor=(1, 0.5), title='Legend')\n",
    "\n",
    "    # Set plot title and labels\n",
    "    ax.set_title(f'Ripley L-function for High Closeness Centrality and Simulated Data for {names[i]}')\n",
    "    ax.set_xlabel('Bins')\n",
    "    ax.set_ylabel('Stats')\n",
    "\n",
    "plt.tight_layout()\n",
    "# Show plot\n",
    "plt.show()\n"
   ]
  },
  {
   "cell_type": "code",
   "execution_count": null,
   "metadata": {},
   "outputs": [],
   "source": [
    "### Now repeat using the low closeness centrality clusters\n",
    "### Do it yourself"
   ]
  },
  {
   "cell_type": "markdown",
   "metadata": {},
   "source": [
    ">>> END OF WORKSHOP <br>\n",
    ">>> THANK YOU FOR JOINING US\n",
    ">>>"
   ]
  }
 ],
 "metadata": {
  "kernelspec": {
   "display_name": "xenium",
   "language": "python",
   "name": "python3"
  },
  "language_info": {
   "codemirror_mode": {
    "name": "ipython",
    "version": 3
   },
   "file_extension": ".py",
   "mimetype": "text/x-python",
   "name": "python",
   "nbconvert_exporter": "python",
   "pygments_lexer": "ipython3",
   "version": "3.10.14"
  }
 },
 "nbformat": 4,
 "nbformat_minor": 2
}
