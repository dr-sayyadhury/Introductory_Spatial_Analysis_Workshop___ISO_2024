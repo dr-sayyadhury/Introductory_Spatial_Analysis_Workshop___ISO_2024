{
 "cells": [
  {
   "cell_type": "markdown",
   "metadata": {},
   "source": [
    "\n",
    "> **ISO2024 INTRODUCTORY SPATIAL 'OMICS ANALYSIS**\n",
    ">\n",
    ">\n",
    ">- HYBRID : TORONTO & ZOOM\n",
    ">- 10TH JULY 2024 <br>\n",
    "\n",
    ">**Module 6 : Realizing the spatial potential in your datasets, part 2 ** <BR>\n",
    ">\n",
    ">**Instructor : Shamini Ayyadhury**\n",
    ">\n",
    "---"
   ]
  },
  {
   "cell_type": "markdown",
   "metadata": {},
   "source": [
    "> TOPICS COVERED\n",
    "\n",
    "* A. Centrality scores *\n",
    "* B. Ripley's L statistics *\n",
    "\n",
    "***"
   ]
  },
  {
   "cell_type": "code",
   "execution_count": null,
   "metadata": {},
   "outputs": [],
   "source": [
    "### Import packages\n",
    "### we will be using the builtu-in functions of squidpy to perform the analysis\n",
    "\n",
    "import squidpy as sq # squidpy is a package that provides tools for the analysis of spatial transcriptomics data\n",
    "import scanpy as sc # scanpy is a package that provides tools for the analysis of single-cell RNA-seq data\n",
    "import seaborn as sns # seaborn is a package that provides tools for the visualization of data\n",
    "import matplotlib.pyplot as plt # matplotlib is a package that provides tools for the visualization of data\n",
    "import numpy as np # numpy is a package that provides tools for the manipulation of data\n",
    "import pandas as pd # pandas is a package that provides tools for the manipulation of data\n"
   ]
  },
  {
   "cell_type": "code",
   "execution_count": null,
   "metadata": {},
   "outputs": [],
   "source": [
    "out = '/home/shamini/data/projects/spatial_workshop/out/module3/' ### data directory\n",
    "\n",
    "names = ['wt', 'AD']"
   ]
  },
  {
   "cell_type": "markdown",
   "metadata": {},
   "source": [
    ">>> Read anndata object created in module 3"
   ]
  },
  {
   "cell_type": "code",
   "execution_count": null,
   "metadata": {},
   "outputs": [],
   "source": [
    "adatas = []\n",
    "\n",
    "adata = sc.read_h5ad(out + 'wt_13_4mths/adata_wt_banksy.h5ad') \n",
    "adata = adata[adata.obs['cell_label'].notna()]\n",
    "adatas.append(adata)\n",
    "\n",
    "adata = sc.read_h5ad(out + 'TgCRND8_17_8mths/adata_module3b_banksy.h5ad')\n",
    "adata = adata[adata.obs['cell_label'].notna()]\n",
    "adatas.append(adata)\n",
    "\n",
    "for adata in adatas:\n",
    "    print(adata)\n",
    "    print('')\n"
   ]
  },
  {
   "cell_type": "code",
   "execution_count": null,
   "metadata": {},
   "outputs": [],
   "source": [
    "### Calculate spatial neighbors\n",
    "\n",
    "for adata in adatas:\n",
    "    sq.gr.spatial_neighbors(adata, coord_type=\"generic\", n_rings=2, delaunay=True)\n"
   ]
  },
  {
   "cell_type": "markdown",
   "metadata": {},
   "source": [
    ">>> 1. There are 3 scores from the centrality function that we will compute.\n",
    ">>> 2. But we will use one as an example to review"
   ]
  },
  {
   "cell_type": "markdown",
   "metadata": {},
   "source": [
    "COMPUTE CENTRALITY SCORES"
   ]
  },
  {
   "cell_type": "code",
   "execution_count": null,
   "metadata": {},
   "outputs": [],
   "source": [
    "from copy import deepcopy # copy is a package that provides tools for the manipulation of data\n",
    "\n",
    "deep_centrals = []\n",
    "ser_closeness = []\n",
    "ser_degree = []\n",
    "ser_cluster = []\n",
    "\n",
    "for i, adata in enumerate(adatas):\n",
    "    sq.gr.centrality_scores(adata, \"cell_label\")\n",
    "\n",
    "    deep_central = deepcopy(adata.uns[\"cell_label_centrality_scores\"])\n",
    "\n",
    "    ser_closeness.append(deep_central[\"closeness_centrality\"].sort_values(ascending=False))\n",
    "\n",
    "    ser_degree.append(deep_central[\"degree_centrality\"].sort_values(ascending=False))\n",
    "\n",
    "    ser_cluster.append(deep_central[\"average_clustering\"].sort_values(ascending=False))\n",
    "    \n",
    "    deep_centrals.append(deep_central)"
   ]
  },
  {
   "cell_type": "code",
   "execution_count": null,
   "metadata": {},
   "outputs": [],
   "source": [
    "\n",
    "for i, closeness in enumerate(ser_closeness):\n",
    "    inst_clusters = closeness.index.tolist()[:5]\n",
    "    print(inst_clusters)\n",
    "\n",
    "    fig, axs = plt.subplots(1, 2, figsize=(20, 6))\n",
    "    fig.suptitle(f\"Top 5 clusters and bottom 5 clusters based on closeness centrality for {names[i]}\", fontsize=24, y=1.05, x=0.4)\n",
    "\n",
    "    sq.pl.spatial_scatter(\n",
    "        adatas[i], groups=inst_clusters, color=\"cell_label\", size=15, img=False, figsize=(10, 10), palette=\"tab20\", ax=axs[0]\n",
    "    )\n",
    "    axs[0].set_title(\"Top 5 clusters based on closeness centrality\", loc=\"left\")\n",
    "\n",
    "    inst_clusters = closeness.index.tolist()[-5:]\n",
    "    print(inst_clusters)\n",
    "    sq.pl.spatial_scatter(\n",
    "        adatas[i], groups=inst_clusters, color=\"cell_label\", size=15, img=False, figsize=(10, 10), palette=\"tab20\", ax=axs[1]\n",
    "    )\n",
    "    axs[1].set_title(\"Bottom 5 clusters based on closeness centrality\", loc=\"left\")"
   ]
  },
  {
   "cell_type": "markdown",
   "metadata": {},
   "source": [
    "COMPUTE RIPLEY'S FUNCTION"
   ]
  },
  {
   "cell_type": "code",
   "execution_count": null,
   "metadata": {},
   "outputs": [],
   "source": [
    "for adata in adatas:\n",
    "    sq.gr.ripley(adata, \n",
    "                  cluster_key='cell_label', \n",
    "                  mode='L', \n",
    "                  spatial_key='spatial', \n",
    "                  metric='euclidean', \n",
    "                  n_neigh=2, \n",
    "                  n_simulations=50, n_observations=1000, \n",
    "                  max_dist=None, \n",
    "                  n_steps=50, \n",
    "                  seed=None, \n",
    "                  copy=False)\n"
   ]
  },
  {
   "cell_type": "code",
   "execution_count": null,
   "metadata": {},
   "outputs": [],
   "source": [
    "df_cell_ripley = []\n",
    "sim = []\n",
    "\n",
    "for adata in adatas:\n",
    "    df_cell_ripley.append(pd.DataFrame(adata.uns['cell_label_ripley_L']['L_stat']))\n",
    "    s = (pd.DataFrame(adata.uns['cell_label_ripley_L']['sims_stat']))\n",
    "    s.columns = ['bins', 'cell_label', 'stats']\n",
    "    s['cell_label'] = 'sim'\n",
    "    sim.append(s)\n"
   ]
  },
  {
   "cell_type": "code",
   "execution_count": null,
   "metadata": {},
   "outputs": [],
   "source": [
    "df_cell_ripley_high_cen = []\n",
    "df_cell_ripley_low_cen = []\n",
    "\n",
    "for i, closeness in enumerate(ser_closeness):\n",
    "    df_cell_ripley_high_cen.append(df_cell_ripley[i][df_cell_ripley[i]['cell_label'].isin(closeness.index.tolist()[:5])].copy())\n",
    "    df_cell_ripley_low_cen.append(df_cell_ripley[i][df_cell_ripley[i]['cell_label'].isin(closeness.index.tolist()[-5:])].copy())"
   ]
  },
  {
   "cell_type": "code",
   "execution_count": null,
   "metadata": {},
   "outputs": [],
   "source": [
    "import pandas as pd\n",
    "import seaborn as sns\n",
    "import matplotlib.pyplot as plt\n",
    "\n",
    "fig, axs = plt.subplots(1, 2, figsize=(20, 6))\n",
    "\n",
    "for i, adata in enumerate(adatas):\n",
    "    df_cell_ripley_high_cen[i]['source'] = 'High Closeness Centrality'\n",
    "    sim[i]['source'] = 'Simulated Data'\n",
    "\n",
    "    if 'cell_label' not in sim[i].columns:\n",
    "        sim[i]['cell_label'] = 'Simulated' \n",
    "\n",
    "    combined_df = pd.concat([df_cell_ripley_high_cen[i], sim[i]])\n",
    "\n",
    "    ax = sns.lineplot(data=combined_df, x='bins', y='stats', hue='cell_label', style='source', legend='brief', ax=axs[i])\n",
    "\n",
    "    handles, labels = ax.get_legend_handles_labels()\n",
    "    filtered_handles_labels = [(h, l) for h, l in zip(handles, labels) if l in combined_df['cell_label'].unique()]\n",
    "    handles, labels = zip(*filtered_handles_labels)\n",
    "    ax.legend(handles, labels, loc='center left', bbox_to_anchor=(1, 0.5), title='Legend')\n",
    "\n",
    "    ax.set_title(f'Ripley L-function for High Closeness Centrality and Simulated Data for {names[i]}')\n",
    "    ax.set_xlabel('Bins')\n",
    "    ax.set_ylabel('Stats')\n",
    "\n",
    "plt.tight_layout()\n",
    "plt.show()\n"
   ]
  },
  {
   "cell_type": "markdown",
   "metadata": {},
   "source": [
    ">>> END OF WORKSHOP <br>\n",
    ">>> THANK YOU FOR JOINING US\n",
    ">>>"
   ]
  }
 ],
 "metadata": {
  "kernelspec": {
   "display_name": "xenium",
   "language": "python",
   "name": "python3"
  },
  "language_info": {
   "codemirror_mode": {
    "name": "ipython",
    "version": 3
   },
   "file_extension": ".py",
   "mimetype": "text/x-python",
   "name": "python",
   "nbconvert_exporter": "python",
   "pygments_lexer": "ipython3",
   "version": "3.10.14"
  }
 },
 "nbformat": 4,
 "nbformat_minor": 2
}
